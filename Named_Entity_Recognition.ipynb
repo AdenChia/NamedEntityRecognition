{
  "nbformat": 4,
  "nbformat_minor": 0,
  "metadata": {
    "colab": {
      "provenance": [],
      "gpuType": "T4"
    },
    "kernelspec": {
      "name": "python3",
      "display_name": "Python 3"
    },
    "language_info": {
      "name": "python"
    },
    "accelerator": "GPU"
  },
  "cells": [
    {
      "cell_type": "markdown",
      "source": [
        "# Prerequisite"
      ],
      "metadata": {
        "id": "BYrd9AgNT-1V"
      }
    },
    {
      "cell_type": "markdown",
      "source": [
        "##### Im using the token classification transformer from huggingface to train my model."
      ],
      "metadata": {
        "id": "PlMevRrwUEzi"
      }
    },
    {
      "cell_type": "code",
      "source": [
        "# Mount google drive\n",
        "# I've created a folder transformer-ner/mit-restaurant-data in my Google Drive\n",
        "from google.colab import drive\n",
        "drive.mount('/content/drive')"
      ],
      "metadata": {
        "colab": {
          "base_uri": "https://localhost:8080/"
        },
        "id": "KEbr3Mz4UZaF",
        "outputId": "e5c75d87-1dc0-4931-e732-ea0321c2212a"
      },
      "execution_count": 1,
      "outputs": [
        {
          "output_type": "stream",
          "name": "stdout",
          "text": [
            "Mounted at /content/drive\n"
          ]
        }
      ]
    },
    {
      "cell_type": "code",
      "source": [
        "# Token classification transformers from huggingface\n",
        "#!wget https://raw.githubusercontent.com/huggingface/transformers/v3.1.0/examples/token-classification/run_ner.py\n",
        "!wget https://raw.githubusercontent.com/huggingface/transformers/v3.1.0/examples/token-classification/utils_ner.py\n",
        "!wget https://raw.githubusercontent.com/huggingface/transformers/v3.1.0/examples/token-classification/tasks.py"
      ],
      "metadata": {
        "colab": {
          "base_uri": "https://localhost:8080/"
        },
        "id": "XLndFD4rUErg",
        "outputId": "4a8b47e0-e18d-404c-c128-f1dcef7cf3e8"
      },
      "execution_count": 2,
      "outputs": [
        {
          "output_type": "stream",
          "name": "stdout",
          "text": [
            "--2023-09-07 15:17:35--  https://raw.githubusercontent.com/huggingface/transformers/v3.1.0/examples/token-classification/utils_ner.py\n",
            "Resolving raw.githubusercontent.com (raw.githubusercontent.com)... 185.199.110.133, 185.199.109.133, 185.199.111.133, ...\n",
            "Connecting to raw.githubusercontent.com (raw.githubusercontent.com)|185.199.110.133|:443... connected.\n",
            "HTTP request sent, awaiting response... 200 OK\n",
            "Length: 15629 (15K) [text/plain]\n",
            "Saving to: ‘utils_ner.py’\n",
            "\n",
            "\rutils_ner.py          0%[                    ]       0  --.-KB/s               \rutils_ner.py        100%[===================>]  15.26K  --.-KB/s    in 0.001s  \n",
            "\n",
            "2023-09-07 15:17:35 (19.4 MB/s) - ‘utils_ner.py’ saved [15629/15629]\n",
            "\n",
            "--2023-09-07 15:17:35--  https://raw.githubusercontent.com/huggingface/transformers/v3.1.0/examples/token-classification/tasks.py\n",
            "Resolving raw.githubusercontent.com (raw.githubusercontent.com)... 185.199.111.133, 185.199.108.133, 185.199.110.133, ...\n",
            "Connecting to raw.githubusercontent.com (raw.githubusercontent.com)|185.199.111.133|:443... connected.\n",
            "HTTP request sent, awaiting response... 200 OK\n",
            "Length: 5509 (5.4K) [text/plain]\n",
            "Saving to: ‘tasks.py’\n",
            "\n",
            "tasks.py            100%[===================>]   5.38K  --.-KB/s    in 0s      \n",
            "\n",
            "2023-09-07 15:17:35 (82.4 MB/s) - ‘tasks.py’ saved [5509/5509]\n",
            "\n"
          ]
        }
      ]
    },
    {
      "cell_type": "markdown",
      "source": [
        "### ⚠️ I've made some admendments for the `run_ner.py` script. Please use the one in the repo."
      ],
      "metadata": {
        "id": "39pls-AuN3Rf"
      }
    },
    {
      "cell_type": "code",
      "execution_count": 3,
      "metadata": {
        "colab": {
          "base_uri": "https://localhost:8080/"
        },
        "id": "d_Qz0Ez-T-K9",
        "outputId": "00155092-3913-4dc1-a1ac-83c1946ea63c"
      },
      "outputs": [
        {
          "output_type": "stream",
          "name": "stdout",
          "text": [
            "--2023-09-07 15:18:12--  https://groups.csail.mit.edu/sls/downloads/restaurant/restauranttrain.bio\n",
            "Resolving groups.csail.mit.edu (groups.csail.mit.edu)... 128.30.2.44\n",
            "Connecting to groups.csail.mit.edu (groups.csail.mit.edu)|128.30.2.44|:443... connected.\n",
            "HTTP request sent, awaiting response... 200 OK\n",
            "Length: 759757 (742K)\n",
            "Saving to: ‘restauranttrain.bio’\n",
            "\n",
            "restauranttrain.bio 100%[===================>] 741.95K  2.14MB/s    in 0.3s    \n",
            "\n",
            "2023-09-07 15:18:13 (2.14 MB/s) - ‘restauranttrain.bio’ saved [759757/759757]\n",
            "\n",
            "--2023-09-07 15:18:13--  https://groups.csail.mit.edu/sls/downloads/restaurant/restauranttest.bio\n",
            "Resolving groups.csail.mit.edu (groups.csail.mit.edu)... 128.30.2.44\n",
            "Connecting to groups.csail.mit.edu (groups.csail.mit.edu)|128.30.2.44|:443... connected.\n",
            "HTTP request sent, awaiting response... 200 OK\n",
            "Length: 155722 (152K)\n",
            "Saving to: ‘restauranttest.bio’\n",
            "\n",
            "restauranttest.bio  100%[===================>] 152.07K   762KB/s    in 0.2s    \n",
            "\n",
            "2023-09-07 15:18:14 (762 KB/s) - ‘restauranttest.bio’ saved [155722/155722]\n",
            "\n"
          ]
        }
      ],
      "source": [
        "# Download Datasets\n",
        "!wget https://groups.csail.mit.edu/sls/downloads/restaurant/restauranttrain.bio\n",
        "!wget https://groups.csail.mit.edu/sls/downloads/restaurant/restauranttest.bio"
      ]
    },
    {
      "cell_type": "code",
      "source": [
        "!pip install transformers\n",
        "!pip install seqeval\n",
        "!pip install conllu\n",
        "!pip install transformers[torch]"
      ],
      "metadata": {
        "colab": {
          "base_uri": "https://localhost:8080/"
        },
        "id": "w9rv0176Uc9J",
        "outputId": "cf6c2a82-fa4b-43c1-d168-66808c68629f"
      },
      "execution_count": 4,
      "outputs": [
        {
          "output_type": "stream",
          "name": "stdout",
          "text": [
            "Collecting transformers\n",
            "  Downloading transformers-4.33.1-py3-none-any.whl (7.6 MB)\n",
            "\u001b[2K     \u001b[90m━━━━━━━━━━━━━━━━━━━━━━━━━━━━━━━━━━━━━━━━\u001b[0m \u001b[32m7.6/7.6 MB\u001b[0m \u001b[31m24.1 MB/s\u001b[0m eta \u001b[36m0:00:00\u001b[0m\n",
            "\u001b[?25hRequirement already satisfied: filelock in /usr/local/lib/python3.10/dist-packages (from transformers) (3.12.2)\n",
            "Collecting huggingface-hub<1.0,>=0.15.1 (from transformers)\n",
            "  Downloading huggingface_hub-0.16.4-py3-none-any.whl (268 kB)\n",
            "\u001b[2K     \u001b[90m━━━━━━━━━━━━━━━━━━━━━━━━━━━━━━━━━━━━━━\u001b[0m \u001b[32m268.8/268.8 kB\u001b[0m \u001b[31m29.6 MB/s\u001b[0m eta \u001b[36m0:00:00\u001b[0m\n",
            "\u001b[?25hRequirement already satisfied: numpy>=1.17 in /usr/local/lib/python3.10/dist-packages (from transformers) (1.23.5)\n",
            "Requirement already satisfied: packaging>=20.0 in /usr/local/lib/python3.10/dist-packages (from transformers) (23.1)\n",
            "Requirement already satisfied: pyyaml>=5.1 in /usr/local/lib/python3.10/dist-packages (from transformers) (6.0.1)\n",
            "Requirement already satisfied: regex!=2019.12.17 in /usr/local/lib/python3.10/dist-packages (from transformers) (2023.6.3)\n",
            "Requirement already satisfied: requests in /usr/local/lib/python3.10/dist-packages (from transformers) (2.31.0)\n",
            "Collecting tokenizers!=0.11.3,<0.14,>=0.11.1 (from transformers)\n",
            "  Downloading tokenizers-0.13.3-cp310-cp310-manylinux_2_17_x86_64.manylinux2014_x86_64.whl (7.8 MB)\n",
            "\u001b[2K     \u001b[90m━━━━━━━━━━━━━━━━━━━━━━━━━━━━━━━━━━━━━━━━\u001b[0m \u001b[32m7.8/7.8 MB\u001b[0m \u001b[31m64.2 MB/s\u001b[0m eta \u001b[36m0:00:00\u001b[0m\n",
            "\u001b[?25hCollecting safetensors>=0.3.1 (from transformers)\n",
            "  Downloading safetensors-0.3.3-cp310-cp310-manylinux_2_17_x86_64.manylinux2014_x86_64.whl (1.3 MB)\n",
            "\u001b[2K     \u001b[90m━━━━━━━━━━━━━━━━━━━━━━━━━━━━━━━━━━━━━━━━\u001b[0m \u001b[32m1.3/1.3 MB\u001b[0m \u001b[31m64.3 MB/s\u001b[0m eta \u001b[36m0:00:00\u001b[0m\n",
            "\u001b[?25hRequirement already satisfied: tqdm>=4.27 in /usr/local/lib/python3.10/dist-packages (from transformers) (4.66.1)\n",
            "Requirement already satisfied: fsspec in /usr/local/lib/python3.10/dist-packages (from huggingface-hub<1.0,>=0.15.1->transformers) (2023.6.0)\n",
            "Requirement already satisfied: typing-extensions>=3.7.4.3 in /usr/local/lib/python3.10/dist-packages (from huggingface-hub<1.0,>=0.15.1->transformers) (4.7.1)\n",
            "Requirement already satisfied: charset-normalizer<4,>=2 in /usr/local/lib/python3.10/dist-packages (from requests->transformers) (3.2.0)\n",
            "Requirement already satisfied: idna<4,>=2.5 in /usr/local/lib/python3.10/dist-packages (from requests->transformers) (3.4)\n",
            "Requirement already satisfied: urllib3<3,>=1.21.1 in /usr/local/lib/python3.10/dist-packages (from requests->transformers) (2.0.4)\n",
            "Requirement already satisfied: certifi>=2017.4.17 in /usr/local/lib/python3.10/dist-packages (from requests->transformers) (2023.7.22)\n",
            "Installing collected packages: tokenizers, safetensors, huggingface-hub, transformers\n",
            "Successfully installed huggingface-hub-0.16.4 safetensors-0.3.3 tokenizers-0.13.3 transformers-4.33.1\n",
            "Collecting seqeval\n",
            "  Downloading seqeval-1.2.2.tar.gz (43 kB)\n",
            "\u001b[2K     \u001b[90m━━━━━━━━━━━━━━━━━━━━━━━━━━━━━━━━━━━━━━━━\u001b[0m \u001b[32m43.6/43.6 kB\u001b[0m \u001b[31m1.2 MB/s\u001b[0m eta \u001b[36m0:00:00\u001b[0m\n",
            "\u001b[?25h  Preparing metadata (setup.py) ... \u001b[?25l\u001b[?25hdone\n",
            "Requirement already satisfied: numpy>=1.14.0 in /usr/local/lib/python3.10/dist-packages (from seqeval) (1.23.5)\n",
            "Requirement already satisfied: scikit-learn>=0.21.3 in /usr/local/lib/python3.10/dist-packages (from seqeval) (1.2.2)\n",
            "Requirement already satisfied: scipy>=1.3.2 in /usr/local/lib/python3.10/dist-packages (from scikit-learn>=0.21.3->seqeval) (1.10.1)\n",
            "Requirement already satisfied: joblib>=1.1.1 in /usr/local/lib/python3.10/dist-packages (from scikit-learn>=0.21.3->seqeval) (1.3.2)\n",
            "Requirement already satisfied: threadpoolctl>=2.0.0 in /usr/local/lib/python3.10/dist-packages (from scikit-learn>=0.21.3->seqeval) (3.2.0)\n",
            "Building wheels for collected packages: seqeval\n",
            "  Building wheel for seqeval (setup.py) ... \u001b[?25l\u001b[?25hdone\n",
            "  Created wheel for seqeval: filename=seqeval-1.2.2-py3-none-any.whl size=16162 sha256=bdd0bb128061b975990bbf16a7a91482060ba33b1fd1caebb84732bc61008547\n",
            "  Stored in directory: /root/.cache/pip/wheels/1a/67/4a/ad4082dd7dfc30f2abfe4d80a2ed5926a506eb8a972b4767fa\n",
            "Successfully built seqeval\n",
            "Installing collected packages: seqeval\n",
            "Successfully installed seqeval-1.2.2\n",
            "Collecting conllu\n",
            "  Downloading conllu-4.5.3-py2.py3-none-any.whl (16 kB)\n",
            "Installing collected packages: conllu\n",
            "Successfully installed conllu-4.5.3\n",
            "Requirement already satisfied: transformers[torch] in /usr/local/lib/python3.10/dist-packages (4.33.1)\n",
            "Requirement already satisfied: filelock in /usr/local/lib/python3.10/dist-packages (from transformers[torch]) (3.12.2)\n",
            "Requirement already satisfied: huggingface-hub<1.0,>=0.15.1 in /usr/local/lib/python3.10/dist-packages (from transformers[torch]) (0.16.4)\n",
            "Requirement already satisfied: numpy>=1.17 in /usr/local/lib/python3.10/dist-packages (from transformers[torch]) (1.23.5)\n",
            "Requirement already satisfied: packaging>=20.0 in /usr/local/lib/python3.10/dist-packages (from transformers[torch]) (23.1)\n",
            "Requirement already satisfied: pyyaml>=5.1 in /usr/local/lib/python3.10/dist-packages (from transformers[torch]) (6.0.1)\n",
            "Requirement already satisfied: regex!=2019.12.17 in /usr/local/lib/python3.10/dist-packages (from transformers[torch]) (2023.6.3)\n",
            "Requirement already satisfied: requests in /usr/local/lib/python3.10/dist-packages (from transformers[torch]) (2.31.0)\n",
            "Requirement already satisfied: tokenizers!=0.11.3,<0.14,>=0.11.1 in /usr/local/lib/python3.10/dist-packages (from transformers[torch]) (0.13.3)\n",
            "Requirement already satisfied: safetensors>=0.3.1 in /usr/local/lib/python3.10/dist-packages (from transformers[torch]) (0.3.3)\n",
            "Requirement already satisfied: tqdm>=4.27 in /usr/local/lib/python3.10/dist-packages (from transformers[torch]) (4.66.1)\n",
            "Requirement already satisfied: torch!=1.12.0,>=1.10 in /usr/local/lib/python3.10/dist-packages (from transformers[torch]) (2.0.1+cu118)\n",
            "Collecting accelerate>=0.20.3 (from transformers[torch])\n",
            "  Downloading accelerate-0.22.0-py3-none-any.whl (251 kB)\n",
            "\u001b[2K     \u001b[90m━━━━━━━━━━━━━━━━━━━━━━━━━━━━━━━━━━━━━━━\u001b[0m \u001b[32m251.2/251.2 kB\u001b[0m \u001b[31m4.8 MB/s\u001b[0m eta \u001b[36m0:00:00\u001b[0m\n",
            "\u001b[?25hRequirement already satisfied: psutil in /usr/local/lib/python3.10/dist-packages (from accelerate>=0.20.3->transformers[torch]) (5.9.5)\n",
            "Requirement already satisfied: fsspec in /usr/local/lib/python3.10/dist-packages (from huggingface-hub<1.0,>=0.15.1->transformers[torch]) (2023.6.0)\n",
            "Requirement already satisfied: typing-extensions>=3.7.4.3 in /usr/local/lib/python3.10/dist-packages (from huggingface-hub<1.0,>=0.15.1->transformers[torch]) (4.7.1)\n",
            "Requirement already satisfied: sympy in /usr/local/lib/python3.10/dist-packages (from torch!=1.12.0,>=1.10->transformers[torch]) (1.12)\n",
            "Requirement already satisfied: networkx in /usr/local/lib/python3.10/dist-packages (from torch!=1.12.0,>=1.10->transformers[torch]) (3.1)\n",
            "Requirement already satisfied: jinja2 in /usr/local/lib/python3.10/dist-packages (from torch!=1.12.0,>=1.10->transformers[torch]) (3.1.2)\n",
            "Requirement already satisfied: triton==2.0.0 in /usr/local/lib/python3.10/dist-packages (from torch!=1.12.0,>=1.10->transformers[torch]) (2.0.0)\n",
            "Requirement already satisfied: cmake in /usr/local/lib/python3.10/dist-packages (from triton==2.0.0->torch!=1.12.0,>=1.10->transformers[torch]) (3.27.2)\n",
            "Requirement already satisfied: lit in /usr/local/lib/python3.10/dist-packages (from triton==2.0.0->torch!=1.12.0,>=1.10->transformers[torch]) (16.0.6)\n",
            "Requirement already satisfied: charset-normalizer<4,>=2 in /usr/local/lib/python3.10/dist-packages (from requests->transformers[torch]) (3.2.0)\n",
            "Requirement already satisfied: idna<4,>=2.5 in /usr/local/lib/python3.10/dist-packages (from requests->transformers[torch]) (3.4)\n",
            "Requirement already satisfied: urllib3<3,>=1.21.1 in /usr/local/lib/python3.10/dist-packages (from requests->transformers[torch]) (2.0.4)\n",
            "Requirement already satisfied: certifi>=2017.4.17 in /usr/local/lib/python3.10/dist-packages (from requests->transformers[torch]) (2023.7.22)\n",
            "Requirement already satisfied: MarkupSafe>=2.0 in /usr/local/lib/python3.10/dist-packages (from jinja2->torch!=1.12.0,>=1.10->transformers[torch]) (2.1.3)\n",
            "Requirement already satisfied: mpmath>=0.19 in /usr/local/lib/python3.10/dist-packages (from sympy->torch!=1.12.0,>=1.10->transformers[torch]) (1.3.0)\n",
            "Installing collected packages: accelerate\n",
            "Successfully installed accelerate-0.22.0\n"
          ]
        }
      ]
    },
    {
      "cell_type": "code",
      "source": [
        "# Check whether CUDA is enabled.\n",
        "import torch\n",
        "print(torch.cuda.is_available())"
      ],
      "metadata": {
        "colab": {
          "base_uri": "https://localhost:8080/"
        },
        "id": "mJ9BNie7YDbZ",
        "outputId": "b87b6ea1-009d-4d9b-9ea2-81d048e33a79"
      },
      "execution_count": 5,
      "outputs": [
        {
          "output_type": "stream",
          "name": "stdout",
          "text": [
            "True\n"
          ]
        }
      ]
    },
    {
      "cell_type": "markdown",
      "source": [
        "# Data Understanding"
      ],
      "metadata": {
        "id": "b6CR69fsWZKB"
      }
    },
    {
      "cell_type": "markdown",
      "source": [
        "## Example\n",
        "![Frame 2.png](data:image/png;base64,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)"
      ],
      "metadata": {
        "id": "Q4IiWb-NWmD2"
      }
    },
    {
      "cell_type": "markdown",
      "source": [
        "The data is present in the following format\n",
        "\n",
        "`O`\ta  \n",
        "`B-Rating`\tfour     \n",
        "`I-Rating`\tstar    \n",
        "`O`\trestaurant    \n",
        "`B-Location`\twith  \n",
        "`I-Location`\ta  \n",
        "`B-Amenity`\tbar"
      ],
      "metadata": {
        "id": "UQ5ewdLaWcKB"
      }
    },
    {
      "cell_type": "markdown",
      "source": [
        "# Data Pre-processing"
      ],
      "metadata": {
        "id": "FcR-3O_SVMkr"
      }
    },
    {
      "cell_type": "markdown",
      "source": [
        "#### Convert dataset to conllu format:\n",
        "  1. Reverse the tag and column in both test and train dataset.\n",
        "  2. Replace all the tabs to space.\n",
        "  3. Change the seperator to newline.\n"
      ],
      "metadata": {
        "id": "VmVBer--VPOn"
      }
    },
    {
      "cell_type": "code",
      "source": [
        "!awk '{print $2,$1}' restauranttest.bio > \"/content/drive/My Drive/transformers-ner/mit-restaurant-data/test.txt\"\n",
        "!awk '{print $2,$1}' restauranttrain.bio > \"/content/drive/My Drive/transformers-ner/mit-restaurant-data/train.txt\"\n",
        "!sed -i 's/\\t/ /g' '/content/drive/My Drive/transformers-ner/mit-restaurant-data/test.txt'\n",
        "!sed -i 's/^ $/\\n/g' '/content/drive/My Drive/transformers-ner/mit-restaurant-data/test.txt'\n",
        "!sed -i 's/\\t/ /g' '/content/drive/My Drive/transformers-ner/mit-restaurant-data/train.txt'\n",
        "!sed -i 's/^ $/\\n/g' '/content/drive/My Drive/transformers-ner/mit-restaurant-data/train.txt'"
      ],
      "metadata": {
        "id": "oMK4Up1wUu7l"
      },
      "execution_count": 6,
      "outputs": []
    },
    {
      "cell_type": "code",
      "source": [
        "import pandas as pd\n",
        "df = pd.read_csv('/content/drive/My Drive/transformers-ner/mit-restaurant-data/train.txt',sep=' ', header=None)"
      ],
      "metadata": {
        "id": "b7VIQElEWuut"
      },
      "execution_count": 7,
      "outputs": []
    },
    {
      "cell_type": "code",
      "source": [
        "with open('/content/drive/My Drive/transformers-ner/mit-restaurant-data/labels.txt','w') as fout:\n",
        "  for tag in df[1].unique():\n",
        "    fout.write(tag+'\\n')"
      ],
      "metadata": {
        "id": "8tYBvQCXWwvd"
      },
      "execution_count": 8,
      "outputs": []
    },
    {
      "cell_type": "markdown",
      "source": [
        "# Model Training"
      ],
      "metadata": {
        "id": "F1TR3jyyW1V9"
      }
    },
    {
      "cell_type": "code",
      "source": [
        "!python run_ner.py  --model_name_or_path 'roberta-base'  \\\n",
        "--data_dir '/content/drive/My Drive/transformers-ner/mit-restaurant-data/' \\\n",
        "--output_dir 'restaurant-model' \\\n",
        "--max_seq_length '128' \\\n",
        "--num_train_epochs 3 \\\n",
        "--per_device_train_batch_size 8 \\\n",
        "--save_steps 1000000 \\\n",
        "--seed 16 \\\n",
        "--do_train \\\n",
        "--do_predict \\\n",
        "--overwrite_output_dir \\\n",
        "--labels \"/content/drive/My Drive/transformers-ner/mit-restaurant-data/labels.txt\" \\\n",
        "--fp16"
      ],
      "metadata": {
        "colab": {
          "base_uri": "https://localhost:8080/"
        },
        "id": "WqNImewuWzIA",
        "outputId": "a3f95eba-c891-4a1e-c57a-ac91b6df3dfa"
      },
      "execution_count": 9,
      "outputs": [
        {
          "output_type": "stream",
          "name": "stdout",
          "text": [
            "2023-09-07 15:19:36.330570: W tensorflow/compiler/tf2tensorrt/utils/py_utils.cc:38] TF-TRT Warning: Could not find TensorRT\n",
            "09/07/2023 15:19:38 - WARNING - __main__ -   Process rank: 0, device: cuda:0, n_gpu: 1, distributed training: True, 16-bits training: True\n",
            "09/07/2023 15:19:38 - INFO - __main__ -   Training/evaluation parameters TrainingArguments(\n",
            "_n_gpu=1,\n",
            "adafactor=False,\n",
            "adam_beta1=0.9,\n",
            "adam_beta2=0.999,\n",
            "adam_epsilon=1e-08,\n",
            "auto_find_batch_size=False,\n",
            "bf16=False,\n",
            "bf16_full_eval=False,\n",
            "data_seed=None,\n",
            "dataloader_drop_last=False,\n",
            "dataloader_num_workers=0,\n",
            "dataloader_pin_memory=True,\n",
            "ddp_backend=None,\n",
            "ddp_broadcast_buffers=None,\n",
            "ddp_bucket_cap_mb=None,\n",
            "ddp_find_unused_parameters=None,\n",
            "ddp_timeout=1800,\n",
            "debug=[],\n",
            "deepspeed=None,\n",
            "disable_tqdm=False,\n",
            "dispatch_batches=None,\n",
            "do_eval=False,\n",
            "do_predict=True,\n",
            "do_train=True,\n",
            "eval_accumulation_steps=None,\n",
            "eval_delay=0,\n",
            "eval_steps=None,\n",
            "evaluation_strategy=no,\n",
            "fp16=True,\n",
            "fp16_backend=auto,\n",
            "fp16_full_eval=False,\n",
            "fp16_opt_level=O1,\n",
            "fsdp=[],\n",
            "fsdp_config={'min_num_params': 0, 'xla': False, 'xla_fsdp_grad_ckpt': False},\n",
            "fsdp_min_num_params=0,\n",
            "fsdp_transformer_layer_cls_to_wrap=None,\n",
            "full_determinism=False,\n",
            "gradient_accumulation_steps=1,\n",
            "gradient_checkpointing=False,\n",
            "greater_is_better=None,\n",
            "group_by_length=False,\n",
            "half_precision_backend=auto,\n",
            "hub_always_push=False,\n",
            "hub_model_id=None,\n",
            "hub_private_repo=False,\n",
            "hub_strategy=every_save,\n",
            "hub_token=<HUB_TOKEN>,\n",
            "ignore_data_skip=False,\n",
            "include_inputs_for_metrics=False,\n",
            "jit_mode_eval=False,\n",
            "label_names=None,\n",
            "label_smoothing_factor=0.0,\n",
            "learning_rate=5e-05,\n",
            "length_column_name=length,\n",
            "load_best_model_at_end=False,\n",
            "local_rank=0,\n",
            "log_level=passive,\n",
            "log_level_replica=warning,\n",
            "log_on_each_node=True,\n",
            "logging_dir=restaurant-model/runs/Sep07_15-19-38_a7037fc5d24f,\n",
            "logging_first_step=False,\n",
            "logging_nan_inf_filter=True,\n",
            "logging_steps=500,\n",
            "logging_strategy=steps,\n",
            "lr_scheduler_type=linear,\n",
            "max_grad_norm=1.0,\n",
            "max_steps=-1,\n",
            "metric_for_best_model=None,\n",
            "mp_parameters=,\n",
            "no_cuda=False,\n",
            "num_train_epochs=3.0,\n",
            "optim=adamw_torch,\n",
            "optim_args=None,\n",
            "output_dir=restaurant-model,\n",
            "overwrite_output_dir=True,\n",
            "past_index=-1,\n",
            "per_device_eval_batch_size=8,\n",
            "per_device_train_batch_size=8,\n",
            "prediction_loss_only=False,\n",
            "push_to_hub=False,\n",
            "push_to_hub_model_id=None,\n",
            "push_to_hub_organization=None,\n",
            "push_to_hub_token=<PUSH_TO_HUB_TOKEN>,\n",
            "ray_scope=last,\n",
            "remove_unused_columns=True,\n",
            "report_to=['tensorboard'],\n",
            "resume_from_checkpoint=None,\n",
            "run_name=restaurant-model,\n",
            "save_on_each_node=False,\n",
            "save_safetensors=False,\n",
            "save_steps=1000000,\n",
            "save_strategy=steps,\n",
            "save_total_limit=None,\n",
            "seed=16,\n",
            "sharded_ddp=[],\n",
            "skip_memory_metrics=True,\n",
            "tf32=None,\n",
            "torch_compile=False,\n",
            "torch_compile_backend=None,\n",
            "torch_compile_mode=None,\n",
            "torchdynamo=None,\n",
            "tpu_metrics_debug=False,\n",
            "tpu_num_cores=None,\n",
            "use_cpu=False,\n",
            "use_ipex=False,\n",
            "use_legacy_prediction_loop=False,\n",
            "use_mps_device=False,\n",
            "warmup_ratio=0.0,\n",
            "warmup_steps=0,\n",
            "weight_decay=0.0,\n",
            ")\n",
            "Downloading (…)lve/main/config.json: 100% 481/481 [00:00<00:00, 2.61MB/s]\n",
            "Downloading (…)olve/main/vocab.json: 100% 899k/899k [00:00<00:00, 5.50MB/s]\n",
            "Downloading (…)olve/main/merges.txt: 100% 456k/456k [00:00<00:00, 2.87MB/s]\n",
            "Downloading model.safetensors: 100% 499M/499M [00:02<00:00, 209MB/s]\n",
            "Some weights of RobertaForTokenClassification were not initialized from the model checkpoint at roberta-base and are newly initialized: ['classifier.bias', 'classifier.weight']\n",
            "You should probably TRAIN this model on a down-stream task to be able to use it for predictions and inference.\n",
            "09/07/2023 15:19:44 - INFO - utils_ner -   Loading features from cached file /content/drive/My Drive/transformers-ner/mit-restaurant-data/cached_train_RobertaTokenizer_128\n",
            "/usr/local/lib/python3.10/dist-packages/transformers/trainer.py:1496: FutureWarning: `model_path` is deprecated and will be removed in a future version. Use `resume_from_checkpoint` instead.\n",
            "  warnings.warn(\n",
            "{'loss': 0.5715, 'learning_rate': 4.1353514265831595e-05, 'epoch': 0.52}\n",
            "{'loss': 0.3423, 'learning_rate': 3.265483646485734e-05, 'epoch': 1.04}\n",
            "{'loss': 0.2609, 'learning_rate': 2.395615866388309e-05, 'epoch': 1.57}\n",
            "{'loss': 0.2328, 'learning_rate': 1.5257480862908838e-05, 'epoch': 2.09}\n",
            "{'loss': 0.1806, 'learning_rate': 6.558803061934586e-06, 'epoch': 2.61}\n",
            "{'train_runtime': 327.7269, 'train_samples_per_second': 70.119, 'train_steps_per_second': 8.769, 'train_loss': 0.30071986974239684, 'epoch': 3.0}\n",
            "100% 2874/2874 [05:27<00:00,  8.77it/s]\n",
            "09/07/2023 15:25:32 - INFO - utils_ner -   Loading features from cached file /content/drive/My Drive/transformers-ner/mit-restaurant-data/cached_test_RobertaTokenizer_128\n",
            "100% 191/191 [00:08<00:00, 21.62it/s]\n",
            "09/07/2023 15:25:44 - INFO - __main__ -     test_loss = 0.2785450220108032\n",
            "09/07/2023 15:25:44 - INFO - __main__ -     test_accuracy_score = 0.9215768799102132\n",
            "09/07/2023 15:25:44 - INFO - __main__ -     test_precision = 0.7916284754048274\n",
            "09/07/2023 15:25:44 - INFO - __main__ -     test_recall = 0.8222786417010473\n",
            "09/07/2023 15:25:44 - INFO - __main__ -     test_f1 = 0.8066625155666252\n",
            "09/07/2023 15:25:44 - INFO - __main__ -     test_runtime = 8.8741\n",
            "09/07/2023 15:25:44 - INFO - __main__ -     test_samples_per_second = 171.398\n",
            "09/07/2023 15:25:44 - INFO - __main__ -     test_steps_per_second = 21.523\n",
            "Traceback (most recent call last):\n",
            "  File \"/content/run_ner.py\", line 308, in <module>\n",
            "    main()\n",
            "  File \"/content/run_ner.py\", line 297, in main\n",
            "    token_classification_task.write_predictions_to_file(writer, f, preds_list)\n",
            "  File \"/content/tasks.py\", line 51, in write_predictions_to_file\n",
            "    if not preds_list[example_id]:\n",
            "IndexError: list index out of range\n"
          ]
        }
      ]
    },
    {
      "cell_type": "markdown",
      "source": [
        "### Evaluation\n",
        "- Loss = 0.2785\n",
        "- Accuracy Score = 0.9216\n",
        "- Precision = 0.7916\n",
        "- Recall value = 0.8223\n",
        "- F1 Score = 0.8067\n"
      ],
      "metadata": {
        "id": "CjC7-Xiyk7Rw"
      }
    },
    {
      "cell_type": "code",
      "source": [
        "from transformers import pipeline\n",
        "model_name = './restaurant-model'\n",
        "nlp = pipeline(task=\"ner\", model=model_name, tokenizer=model_name, framework=\"pt\",grouped_entities=True)"
      ],
      "metadata": {
        "colab": {
          "base_uri": "https://localhost:8080/"
        },
        "id": "1XHw4xhgZ6ZJ",
        "outputId": "b7635ae0-641c-4649-bb35-0b107b48be2c"
      },
      "execution_count": 10,
      "outputs": [
        {
          "output_type": "stream",
          "name": "stderr",
          "text": [
            "/usr/local/lib/python3.10/dist-packages/transformers/pipelines/token_classification.py:169: UserWarning: `grouped_entities` is deprecated and will be removed in version v5.0.0, defaulted to `aggregation_strategy=\"simple\"` instead.\n",
            "  warnings.warn(\n"
          ]
        }
      ]
    },
    {
      "cell_type": "code",
      "source": [
        "sequence =[\"\"\"how many 5 star restaurants are near me.\"\"\",\"Which restaurant in Downtown serves best Momos?\"]\n",
        "nlp(sequence)"
      ],
      "metadata": {
        "colab": {
          "base_uri": "https://localhost:8080/"
        },
        "id": "GTztnvjqp2dt",
        "outputId": "fe1ab87c-43dc-46b9-ad2b-9a060ae7660a"
      },
      "execution_count": 11,
      "outputs": [
        {
          "output_type": "execute_result",
          "data": {
            "text/plain": [
              "[[{'entity_group': 'Rating',\n",
              "   'score': 0.9947932,\n",
              "   'word': ' 5 star',\n",
              "   'start': 9,\n",
              "   'end': 15},\n",
              "  {'entity_group': 'Location',\n",
              "   'score': 0.92389035,\n",
              "   'word': ' near me',\n",
              "   'start': 32,\n",
              "   'end': 39}],\n",
              " [{'entity_group': 'Location',\n",
              "   'score': 0.5181144,\n",
              "   'word': ' in',\n",
              "   'start': 17,\n",
              "   'end': 19},\n",
              "  {'entity_group': 'Location',\n",
              "   'score': 0.73874223,\n",
              "   'word': ' Downtown',\n",
              "   'start': 20,\n",
              "   'end': 28},\n",
              "  {'entity_group': 'Rating',\n",
              "   'score': 0.9431286,\n",
              "   'word': ' best',\n",
              "   'start': 36,\n",
              "   'end': 40},\n",
              "  {'entity_group': 'Dish',\n",
              "   'score': 0.9813941,\n",
              "   'word': ' Momos',\n",
              "   'start': 41,\n",
              "   'end': 46}]]"
            ]
          },
          "metadata": {},
          "execution_count": 11
        }
      ]
    }
  ]
}